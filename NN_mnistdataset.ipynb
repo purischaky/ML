{
  "nbformat": 4,
  "nbformat_minor": 0,
  "metadata": {
    "colab": {
      "provenance": []
    },
    "kernelspec": {
      "name": "python3",
      "display_name": "Python 3"
    },
    "language_info": {
      "name": "python"
    }
  },
  "cells": [
    {
      "cell_type": "code",
      "source": [
        "#importar librerias\n",
        "import numpy as np # permite hacer cálculos lógicos y matemáticos\n",
        "import pandas as pd # permite hacer manipulación y análisis de datos\n",
        "import matplotlib.pyplot as plt # permite hacer gráficos\n",
        "import random # permite generar números aleatorios\n",
        "from keras.datasets import mnist #importar dataset mnist\n",
        "from sklearn.model_selection import train_test_split # permite dividir los datos en entrenamiento y prueba\n",
        "from keras.models import Sequential # crea un modelo secuencial y permite añadir capas\n",
        "from keras.layers import Dense, Flatten # permite crear capas densas y aplanar\n",
        "from keras.utils import to_categorical, plot_model # convierte vectores a matrices binarias"
      ],
      "metadata": {
        "id": "anWIBiBaBtDI"
      },
      "execution_count": 15,
      "outputs": []
    },
    {
      "cell_type": "code",
      "source": [
        "# cargar dataset mnist\n",
        "(X_train, y_train) , (X_test, y_test)  = mnist.load_data()"
      ],
      "metadata": {
        "id": "m-XdKGu5DEq6"
      },
      "execution_count": 16,
      "outputs": []
    },
    {
      "cell_type": "code",
      "source": [
        "# visualizar el dataset\n",
        "print('X_train shape', X_train.shape)\n",
        "print('X_test shape', X_test.shape)"
      ],
      "metadata": {
        "colab": {
          "base_uri": "https://localhost:8080/"
        },
        "id": "jYEX8-WeGNjX",
        "outputId": "347c6bd4-2853-420b-d61c-b13cf45576fa"
      },
      "execution_count": 17,
      "outputs": [
        {
          "output_type": "stream",
          "name": "stdout",
          "text": [
            "X_train shape (60000, 28, 28)\n",
            "X_test shape (10000, 28, 28)\n"
          ]
        }
      ]
    },
    {
      "cell_type": "code",
      "source": [
        "# Mostrar una cuadrícula de imágenes\n",
        "plt.figure(figsize=(12, 12))\n",
        "\n",
        "# Cambiar el número de imágenes a mostrar (en este caso, 10)\n",
        "num_images = 10\n",
        "\n",
        "# Iterar sobre las imágenes en X_train y mostrarlas\n",
        "for i in range(num_images):\n",
        "    random_index = random.randint(0, len(X_train) - 1)  # Elegir un índice aleatorio\n",
        "    image = X_train[random_index]  # Seleccionar una imagen aleatoria\n",
        "    plt.subplot(5, 5, i + 1)  # Crear un subplot\n",
        "    plt.xticks([])  # Eliminar marcas en el eje x\n",
        "    plt.yticks([])  # Eliminar marcas en el eje y\n",
        "    plt.grid(False)  # Eliminar la cuadrícula\n",
        "    plt.imshow(image, cmap=plt.get_cmap('gray'))  # Mostrar la imagen en escala de grises\n",
        "\n",
        "plt.show()"
      ],
      "metadata": {
        "colab": {
          "base_uri": "https://localhost:8080/",
          "height": 387
        },
        "id": "y2QqZsT_PHIU",
        "outputId": "e7890d43-ef9c-4b6b-ff5d-944d94b2e2fd"
      },
      "execution_count": 18,
      "outputs": [
        {
          "output_type": "display_data",
          "data": {
            "text/plain": [
              "<Figure size 1200x1200 with 10 Axes>"
            ],
            "image/png": "[encoded data removed]"
          },
          "metadata": {}
        }
      ]
    },
    {
      "cell_type": "code",
      "source": [
        "# ver el tipo de dato del dataset\n",
        "print(type(X_train))  # Esto imprimirá el tipo de dato de X_train\n",
        "print(type(y_train))  # Esto imprimirá el tipo de dato de y_train"
      ],
      "metadata": {
        "colab": {
          "base_uri": "https://localhost:8080/"
        },
        "id": "NKBBhZIMTqlk",
        "outputId": "82ac05dc-13ea-4b1e-e192-2a4739b85f35"
      },
      "execution_count": 19,
      "outputs": [
        {
          "output_type": "stream",
          "name": "stdout",
          "text": [
            "<class 'numpy.ndarray'>\n",
            "<class 'numpy.ndarray'>\n"
          ]
        }
      ]
    },
    {
      "cell_type": "code",
      "source": [
        "#Convertir a tipo flotante y normalizar los datos\n",
        "X_train = X_train.astype('float32') / 255\n",
        "X_test = X_test.astype('float32') / 255"
      ],
      "metadata": {
        "id": "tyHAXdOQILvU"
      },
      "execution_count": 20,
      "outputs": []
    },
    {
      "cell_type": "code",
      "source": [
        "# Mostrar la esquina superior izquierda de la matriz\n",
        "print(X_train[0][:10, :10])  # Mostrar los primeros 10x10 píxeles"
      ],
      "metadata": {
        "colab": {
          "base_uri": "https://localhost:8080/"
        },
        "id": "desAOg7eQ_iR",
        "outputId": "e8bf095a-5640-4e68-ee57-c7a132b2f47e"
      },
      "execution_count": 21,
      "outputs": [
        {
          "output_type": "stream",
          "name": "stdout",
          "text": [
            "[[0.         0.         0.         0.         0.         0.\n",
            "  0.         0.         0.         0.        ]\n",
            " [0.         0.         0.         0.         0.         0.\n",
            "  0.         0.         0.         0.        ]\n",
            " [0.         0.         0.         0.         0.         0.\n",
            "  0.         0.         0.         0.        ]\n",
            " [0.         0.         0.         0.         0.         0.\n",
            "  0.         0.         0.         0.        ]\n",
            " [0.         0.         0.         0.         0.         0.\n",
            "  0.         0.         0.         0.        ]\n",
            " [0.         0.         0.         0.         0.         0.\n",
            "  0.         0.         0.         0.        ]\n",
            " [0.         0.         0.         0.         0.         0.\n",
            "  0.         0.         0.11764706 0.14117648]\n",
            " [0.         0.         0.         0.         0.         0.\n",
            "  0.         0.19215687 0.93333334 0.99215686]\n",
            " [0.         0.         0.         0.         0.         0.\n",
            "  0.         0.07058824 0.85882354 0.99215686]\n",
            " [0.         0.         0.         0.         0.         0.\n",
            "  0.         0.         0.3137255  0.6117647 ]]\n"
          ]
        }
      ]
    },
    {
      "cell_type": "code",
      "source": [
        "# red neuronal\n",
        "def red_neuronal(X_train, y_train, X_test, y_test):\n",
        "\n",
        "    # Convertir las etiquetas a una representación one-hot\n",
        "    y_train_cat = to_categorical(y_train, num_classes=10)\n",
        "    y_test_cat = to_categorical(y_test, num_classes=10)\n",
        "\n",
        "    # Definir el modelo\n",
        "    model = Sequential([\n",
        "        Flatten(input_shape=(28, 28)), #aplanar la imagen\n",
        "        Dense(64, activation='relu', input_shape=(28, 28, 1)), #capa 1 con 64 capas ocultas\n",
        "        Dense(64, activation='relu'), #capa 2 con 64 capas ocultas\n",
        "        Dense(10, activation='softmax')  #capa de salida\n",
        "    ])\n",
        "\n",
        "    # Compilar el modelo\n",
        "    model.compile(optimizer='adam', #optimizador, ajusta los pesos\n",
        "                  loss='categorical_crossentropy', #funcion de error\n",
        "                  metrics=['accuracy']) #metrica de evaluacion\n",
        "\n",
        "    # Entrenar el modelo y guardar el historial\n",
        "    model.fit(X_train, y_train_cat, epochs=5, batch_size=32, verbose=1) #ajuste a los parametros\n",
        "\n",
        "    # Evaluar el modelo\n",
        "    _, accuracy = model.evaluate(X_test, y_test_cat, verbose=0) #evaluacion del modelo\n",
        "\n",
        "    #guardar modelo\n",
        "    model.save('modelo_mnist.h5')\n",
        "\n",
        "    return accuracy"
      ],
      "metadata": {
        "id": "sCur7yXHKO7w"
      },
      "execution_count": 22,
      "outputs": []
    },
    {
      "cell_type": "code",
      "source": [
        "# Llamar a la función para entrener el modelo\n",
        "accuracy = red_neuronal(X_train, y_train, X_test, y_test)\n",
        "# Imprimir la precisión\n",
        "print(f\"Precisión de Red Neuronal: {accuracy:.4f}\")"
      ],
      "metadata": {
        "colab": {
          "base_uri": "https://localhost:8080/"
        },
        "id": "dKNLD1USKTO3",
        "outputId": "fd4d528e-c7b3-47fe-9f42-854d3daaf2f9"
      },
      "execution_count": 23,
      "outputs": [
        {
          "output_type": "stream",
          "name": "stdout",
          "text": [
            "Epoch 1/5\n",
            "\u001b[1m1875/1875\u001b[0m \u001b[32m━━━━━━━━━━━━━━━━━━━━\u001b[0m\u001b[37m\u001b[0m \u001b[1m11s\u001b[0m 5ms/step - accuracy: 0.8610 - loss: 0.4718\n",
            "Epoch 2/5\n",
            "\u001b[1m1875/1875\u001b[0m \u001b[32m━━━━━━━━━━━━━━━━━━━━\u001b[0m\u001b[37m\u001b[0m \u001b[1m7s\u001b[0m 3ms/step - accuracy: 0.9618 - loss: 0.1278\n",
            "Epoch 3/5\n",
            "\u001b[1m1875/1875\u001b[0m \u001b[32m━━━━━━━━━━━━━━━━━━━━\u001b[0m\u001b[37m\u001b[0m \u001b[1m8s\u001b[0m 2ms/step - accuracy: 0.9735 - loss: 0.0856\n",
            "Epoch 4/5\n",
            "\u001b[1m1875/1875\u001b[0m \u001b[32m━━━━━━━━━━━━━━━━━━━━\u001b[0m\u001b[37m\u001b[0m \u001b[1m4s\u001b[0m 2ms/step - accuracy: 0.9801 - loss: 0.0638\n",
            "Epoch 5/5\n",
            "\u001b[1m1875/1875\u001b[0m \u001b[32m━━━━━━━━━━━━━━━━━━━━\u001b[0m\u001b[37m\u001b[0m \u001b[1m5s\u001b[0m 3ms/step - accuracy: 0.9831 - loss: 0.0526\n"
          ]
        },
        {
          "output_type": "stream",
          "name": "stderr",
          "text": [
            "WARNING:absl:You are saving your model as an HDF5 file via `model.save()` or `keras.saving.save_model(model)`. This file format is considered legacy. We recommend using instead the native Keras format, e.g. `model.save('my_model.keras')` or `keras.saving.save_model(model, 'my_model.keras')`. \n"
          ]
        },
        {
          "output_type": "stream",
          "name": "stdout",
          "text": [
            "Precisión de Red Neuronal: 0.9740\n"
          ]
        }
      ]
    },
    {
      "cell_type": "code",
      "source": [
        "#probar el modelo\n",
        "import tkinter as tk\n",
        "from PIL import Image, ImageDraw, ImageOps\n",
        "import requests\n",
        "from io import BytesIO\n",
        "from tensorflow.keras.models import load_model"
      ],
      "metadata": {
        "id": "_XfXaOBkOK50"
      },
      "execution_count": 24,
      "outputs": []
    },
    {
      "cell_type": "code",
      "source": [
        "# Cargar el modelo\n",
        "model = load_model('modelo_mnist.h5')"
      ],
      "metadata": {
        "colab": {
          "base_uri": "https://localhost:8080/"
        },
        "id": "Fx96h4CYWzZP",
        "outputId": "75967043-c917-45a7-c60a-c0c4f793128c"
      },
      "execution_count": 25,
      "outputs": [
        {
          "output_type": "stream",
          "name": "stderr",
          "text": [
            "WARNING:absl:Compiled the loaded model, but the compiled metrics have yet to be built. `model.compile_metrics` will be empty until you train or evaluate the model.\n"
          ]
        }
      ]
    },
    {
      "cell_type": "code",
      "source": [
        "# abrir una imagen de la web\n",
        "imagen = 'https://thumb.ac-illust.com/b5/b508465fac4f54a40cfdbb2b69707f5a_t.jpeg' #path de la imagen\n",
        "response = requests.get(imagen)\n",
        "img = Image.open(BytesIO(response.content)).convert(\"L\")  # Convertir a escala de grises\n",
        "\n",
        "# Preprocesar la imagen\n",
        "img = img.resize((28, 28))\n",
        "img = ImageOps.invert(img)\n",
        "image_array = np.array(img).reshape(1, 28, 28, 1)  # Cambiar a un array de 4 dimensiones\n",
        "image_array = image_array / 255.0  # Normalizar\n",
        "\n",
        "# Convertir la imagen para mostrar con matplotlib\n",
        "image_to_show = image_array.reshape(28, 28)  # Eliminar la dimensión adicional\n",
        "\n",
        "# Crear el plot\n",
        "plt.figure(figsize=(6, 6))\n",
        "plt.imshow(image_to_show, cmap='gray')  # Usar el mapa de colores 'gray' para imágenes en escala de grises\n",
        "plt.title(\"Imagen Preprocesada\")\n",
        "plt.axis('off')  # Ocultar los ejes\n",
        "plt.show()"
      ],
      "metadata": {
        "colab": {
          "base_uri": "https://localhost:8080/",
          "height": 521
        },
        "id": "gqies0gTeUbx",
        "outputId": "4e056bb9-52fe-49b7-e22b-ef6354d8f7b4"
      },
      "execution_count": 26,
      "outputs": [
        {
          "output_type": "display_data",
          "data": {
            "text/plain": [
              "<Figure size 600x600 with 1 Axes>"
            ],
            "image/png": "[encoded data removed]"
          },
          "metadata": {}
        }
      ]
    },
    {
      "cell_type": "code",
      "source": [
        "#predecir imagen\n",
        "prediction = model.predict(image_array)\n",
        "predicted_class = np.argmax(prediction)\n",
        "print(f\"La predicción es: {predicted_class}, prob: {prediction[0][predicted_class]*100}%\")\n"
      ],
      "metadata": {
        "colab": {
          "base_uri": "https://localhost:8080/"
        },
        "id": "kMJejg_amNyc",
        "outputId": "a4fad47a-ecdb-4f6f-e3de-6cfa1013d1ad"
      },
      "execution_count": 27,
      "outputs": [
        {
          "output_type": "stream",
          "name": "stdout",
          "text": [
            "\u001b[1m1/1\u001b[0m \u001b[32m━━━━━━━━━━━━━━━━━━━━\u001b[0m\u001b[37m\u001b[0m \u001b[1m0s\u001b[0m 55ms/step\n",
            "La predicción es: 5, prob: 99.98795986175537%\n"
          ]
        }
      ]
    }
  ]
}